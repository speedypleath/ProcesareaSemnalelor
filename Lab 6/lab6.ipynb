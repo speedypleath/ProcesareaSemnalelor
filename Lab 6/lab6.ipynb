{
 "cells": [
  {
   "cell_type": "code",
   "execution_count": 1,
   "metadata": {},
   "outputs": [],
   "source": [
    "from matplotlib import image\n",
    "from sklearn.feature_extraction.image import extract_patches_2d, reconstruct_from_patches_2d\n",
    "from sklearn.preprocessing import normalize\n",
    "from dictlearn import DictionaryLearning, methods\n",
    "import numpy as np\n",
    "import matplotlib.pyplot as plt\n",
    "import warnings\n",
    "warnings.filterwarnings('ignore')\n",
    "\n",
    "p = 8 # dimensiunea unui patch (numar de pixeli)\n",
    "s = 6 # sparsitatea\n",
    "N = 1000 # numarul total de patch-uri\n",
    "n = 256 # numarul de atomi din dictionar\n",
    "K = 50 # numarul de iteratii DL\n",
    "sigma = 0.075 # deviatia standard a zgomotului\n"
   ]
  },
  {
   "cell_type": "markdown",
   "metadata": {},
   "source": [
    "## 1. Pregatirea imaginii.\n",
    "### (a) Incarcati imaginea. Veti obtine imaginea I de dimensiune m1 × m2."
   ]
  },
  {
   "cell_type": "code",
   "execution_count": 3,
   "metadata": {},
   "outputs": [
    {
     "name": "stdout",
     "output_type": "stream",
     "text": [
      "Imaginea are dimensiunea: (512, 512)\n"
     ]
    }
   ],
   "source": [
    "I = image.imread(\"barbara.png\")\n",
    "print(\"Imaginea are dimensiunea:\", I.shape)"
   ]
  },
  {
   "cell_type": "markdown",
   "metadata": {},
   "source": [
    "### (b) Adaugati zgomot cu dispersie σ imaginii, folosind secventa:\n",
    "        Inoisy = I + sigma * np.random.randn(I.shape[0],I.shape[1])\n"
   ]
  },
  {
   "cell_type": "code",
   "execution_count": 4,
   "metadata": {},
   "outputs": [],
   "source": [
    "Inoisy = I + sigma * np.random.randn(I.shape[0], I.shape[1])\n",
    "Ynoisy = extract_patches_2d(Inoisy, (p, p))"
   ]
  },
  {
   "cell_type": "markdown",
   "metadata": {},
   "source": [
    "### (c) Extrageti patch-urile din imaginea Inoisy si memorati-le in variabila Ynoisy. Functia extract_patches_2d va returna colectia de patch-uri, insa pentru a putea fi utilizate in continuare in antrenarea dictionarului e nevoie de ajustarea dimensiunii, respectiv de vectorizarea patch-urilor. Afisati intai dimensiunea Ynoisy. Pentru avectoriza patch-urile folositi:\n",
    "        Ynoisy = Ynoisy.reshape(Ynoisy.shape[0], -1).\n",
    "### Afisati din nou dimensiunea Ynoisy, pentru a observa rezultatul vectorizarii. Calculati media semnalelor pe linii (axa 0) si scadeti-o din Ynoisy, apoi transpuneti matricea."
   ]
  },
  {
   "cell_type": "code",
   "execution_count": 5,
   "metadata": {},
   "outputs": [
    {
     "name": "stdout",
     "output_type": "stream",
     "text": [
      "(255025, 8, 8)\n",
      "(255025, 64)\n",
      "(64, 255025)\n"
     ]
    }
   ],
   "source": [
    "print(Ynoisy.shape)\n",
    "Ynoisy = Ynoisy.reshape(Ynoisy.shape[0], -1)\n",
    "print(Ynoisy.shape)\n",
    "mean = np.mean(Ynoisy, axis=0)\n",
    "Ynoisy = Ynoisy.T - mean.reshape(-1, 1)\n",
    "print(Ynoisy.shape)"
   ]
  },
  {
   "cell_type": "markdown",
   "metadata": {},
   "source": [
    "### (d) Selectati N patch-uri de dimensiune p la intamplare din imagine, obtinand astfel semnalele Y.\n",
    "### Pentru aceasta, utilizati:\n",
    "        numpy.random.choice(Ynoisy.shape[1],N)"
   ]
  },
  {
   "cell_type": "code",
   "execution_count": 6,
   "metadata": {},
   "outputs": [],
   "source": [
    "Y = np.random.choice(Ynoisy.shape[1], N)\n",
    "Y = Ynoisy[:,Y]"
   ]
  },
  {
   "cell_type": "markdown",
   "metadata": {},
   "source": [
    "## 2. Antrenarea dictionarului.\n",
    "### (a) Generati un dictionar aleator si normati coloanele, obtinand dictionarul D0."
   ]
  },
  {
   "cell_type": "code",
   "execution_count": 7,
   "metadata": {},
   "outputs": [],
   "source": [
    "D0 = np.random.randn(\n",
    "    p * p,\n",
    "    n\n",
    ")\n",
    "\n",
    "D0 = normalize(D0, axis=0, norm=\"max\")"
   ]
  },
  {
   "cell_type": "markdown",
   "metadata": {},
   "source": [
    "### (b) Antrenati dictionarul D pornind de la dictionarul D0 initializat mai sus, in K iteratii utilizand patch-urile selectate Y ca semnale de antrenare."
   ]
  },
  {
   "cell_type": "code",
   "execution_count": 8,
   "metadata": {},
   "outputs": [],
   "source": [
    "dl = DictionaryLearning(\n",
    "    n_components=n,\n",
    "    max_iter=K,\n",
    "    fit_algorithm=\"ksvd\",\n",
    "    n_nonzero_coefs=s,\n",
    "    code_init=None,\n",
    "    dict_init=D0,\n",
    "    params=None,\n",
    "    data_sklearn_compat=False\n",
    ")\n",
    "dl.fit(Y)\n",
    "D = dl.D_"
   ]
  },
  {
   "cell_type": "markdown",
   "metadata": {},
   "source": [
    "## 3. Calcul reprezentarii rare si reconstructia imaginii.\n",
    "### (a) Calculati reprezentarea rara a semnalelor Ynoisy, obtinand Xc."
   ]
  },
  {
   "cell_type": "code",
   "execution_count": 9,
   "metadata": {},
   "outputs": [
    {
     "name": "stdout",
     "output_type": "stream",
     "text": [
      "0.9547940268204208\n"
     ]
    }
   ],
   "source": [
    "Xc, err = methods.omp(Ynoisy, D, n_nonzero_coefs=s)\n",
    "print(err)"
   ]
  },
  {
   "cell_type": "markdown",
   "metadata": {},
   "source": [
    "### (b) Obtineti patch-urile curate, Yc, utilizand dictionarul D si reprezentarea Xc, apoi adaugati media pe linii pe care ati scazut-o anterior."
   ]
  },
  {
   "cell_type": "code",
   "execution_count": 10,
   "metadata": {},
   "outputs": [
    {
     "name": "stdout",
     "output_type": "stream",
     "text": [
      "(256, 255025)\n",
      "(64, 256)\n",
      "(64, 255025)\n"
     ]
    }
   ],
   "source": [
    "print(Xc.shape)\n",
    "print(D.shape)\n",
    "Yc = np.dot(D, Xc)\n",
    "print(Yc.shape)\n",
    "Yc = Yc.T + mean\n",
    "Yc = Yc.reshape(Yc.shape[0], p, p)"
   ]
  },
  {
   "cell_type": "markdown",
   "metadata": {},
   "source": [
    "### (c) Reconstruiti imaginea din patch-urile Yc, obtinand imaginea curata Ic."
   ]
  },
  {
   "cell_type": "code",
   "execution_count": 11,
   "metadata": {},
   "outputs": [],
   "source": [
    "Ic = reconstruct_from_patches_2d(Yc, (512, 512))"
   ]
  },
  {
   "cell_type": "markdown",
   "metadata": {},
   "source": [
    "## 4. Evaluarea performantei.\n",
    "### (a) Vizualizati cele trei imagini (originala, alterata de zgomot si curatata de zgomot). Pentru aceasta, folositi:\n",
    "        plt.imshow(I)\n",
    "### dupa ce ati incarcat pachetul:\n",
    "        from matplotlib import pyplot as plt"
   ]
  },
  {
   "cell_type": "code",
   "execution_count": 12,
   "metadata": {},
   "outputs": [
    {
     "data": {
      "image/png": "[encoded data removed]",
      "text/plain": [
       "<Figure size 432x288 with 3 Axes>"
      ]
     },
     "metadata": {
      "needs_background": "light"
     },
     "output_type": "display_data"
    }
   ],
   "source": [
    "fig, ax = plt.subplots(nrows=1, ncols=3)\n",
    "plt.subplots_adjust(wspace=0.5)\n",
    "fig.add_subplot(ax[0])\n",
    "plt.imshow(I, cmap=\"gray\")\n",
    "plt.axis(\"off\")\n",
    "plt.title(\"original\")\n",
    "fig.add_subplot(ax[1])\n",
    "plt.imshow(Inoisy, cmap=\"gray\")\n",
    "plt.axis(\"off\")\n",
    "plt.title(\"noisy\")\n",
    "fig.add_subplot(ax[2])\n",
    "plt.imshow(Ic, cmap=\"gray\")\n",
    "plt.axis(\"off\")\n",
    "plt.title(\"denoised\")\n",
    "plt.show()"
   ]
  },
  {
   "cell_type": "markdown",
   "metadata": {},
   "source": [
    "### (b) Calculati psnr pentru a masura reducerea zgomotului. Calculati atat psnr intre imaginea originala si cea afectata de zgomot, cat si intre cea originala si cea in care ati eliminat zgomotul. Daca valoarea obtinuta pentru imaginea denoised este mai mare decat pentru cea noisy, metoda si-a indeplinit scopul."
   ]
  },
  {
   "cell_type": "code",
   "execution_count": 13,
   "metadata": {},
   "outputs": [
    {
     "name": "stdout",
     "output_type": "stream",
     "text": [
      "noisy psnr: 70.62791148092826, denoised psnr: 60.91465768941619\n"
     ]
    }
   ],
   "source": [
    "def psnr(img1, img2):\n",
    "    mse = np.mean((img1 - img2) ** 2)\n",
    "    if(mse == 0):\n",
    "        return 0\n",
    "    max_pixel = 255\n",
    "    psnr = 20 * np.log10(max_pixel / np.sqrt(mse))\n",
    "    return psnr\n",
    "\n",
    "print(\"noisy psnr: {}, denoised psnr: {}\".format(psnr(I, Inoisy), psnr(I, Ic)))"
   ]
  }
 ],
 "metadata": {
  "interpreter": {
   "hash": "b0fa6594d8f4cbf19f97940f81e996739fb7646882a419484c72d19e05852a7e"
  },
  "kernelspec": {
   "display_name": "Python 3.9.9 64-bit",
   "language": "python",
   "name": "python3"
  },
  "language_info": {
   "codemirror_mode": {
    "name": "ipython",
    "version": 3
   },
   "file_extension": ".py",
   "mimetype": "text/x-python",
   "name": "python",
   "nbconvert_exporter": "python",
   "pygments_lexer": "ipython3",
   "version": "3.9.9"
  },
  "orig_nbformat": 4
 },
 "nbformat": 4,
 "nbformat_minor": 2
}
